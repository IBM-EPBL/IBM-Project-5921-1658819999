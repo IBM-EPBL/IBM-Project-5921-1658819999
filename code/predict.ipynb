{
 "cells": [
  {
   "cell_type": "code",
   "execution_count": 2,
   "id": "99318334-c471-4249-abc7-7a1a7cade3d9",
   "metadata": {},
   "outputs": [],
   "source": [
    "from copyreg import pickle\n",
    "from io import StringIO\n",
    "import pandas as pd\n",
    "import numpy as np\n",
    "from sklearn.linear_model import LogisticRegression\n",
    "import pickle"
   ]
  },
  {
   "cell_type": "code",
   "execution_count": 3,
   "id": "813e123e-e8d4-44b6-97eb-51be1ed187ff",
   "metadata": {},
   "outputs": [
    {
     "name": "stdout",
     "output_type": "stream",
     "text": [
      "26\n"
     ]
    }
   ],
   "source": [
    "file = open(\"./Model/engine_model.sav\",'rb')\n",
    "model = pickle.load(file)\n",
    "file.close()\n",
    "\n",
    "file = open(\"./Model/rul.sav\",'rb')\n",
    "rul_data = pickle.load(file)\n",
    "file.close()\n",
    "\n",
    "file = open(\"./Model/truth.sav\",'rb')\n",
    "truth_ds = pickle.load(file)\n",
    "file.close()\n",
    "\n",
    "dt =  [1, 7, -0.0000, 0.0002, 100.0 , 518.67, 642.11, 1583.34, 1404.84, 14.62, 21.61, 553.89, 2388.05, 9051.39, 1.30, 47.31, 522.01, 2388.06, 8134.97, 8.3914, 0.03, 391, 2388, 100.00, 38.85, 23.3952]\n",
    "print(len(dt))"
   ]
  },
  {
   "cell_type": "code",
   "execution_count": 5,
   "id": "ec3c5f8c-bd43-4ca2-826f-9f5eb2501b5d",
   "metadata": {},
   "outputs": [],
   "source": [
    "def predict(data):\n",
    "    try:\n",
    "        col_name = ['id','cycle','set1','set2','set3','s1','s2','s3','s4','s5','s6','s7','s8']+['s9','s10','s11','s12','s13','s14','s14','s15','s16','s17','s18','s19','s20']\n",
    "        test_dataset = pd.DataFrame([data],columns=col_name)\n",
    "        rul=pd.DataFrame(test_dataset.groupby(\"id\")['cycle'].max()).reset_index()\n",
    "        rul.columns = ['id','max']\n",
    "        truth_ds['rtf']=truth_ds['more']+rul[\"max\"]\n",
    "        truth_ds.head()\n",
    "        truth_ds['rtf']=truth_ds['more']+rul[\"max\"]\n",
    "        test_dataset=test_dataset.merge(truth_ds, on= ['id'], how= \"left\")\n",
    "        test_dataset[ 'ttf']=test_dataset['rtf'] - test_dataset['cycle']\n",
    "        test_dataset.drop ('rtf', axis=1, inplace=True)\n",
    "        df_test = test_dataset.copy()\n",
    "        period = 30\n",
    "        df_test['label_bc'] = df_test ['ttf'].apply(lambda x: 1 if x <= period else 0)\n",
    "        df_test = df_test.dropna()\n",
    "        if len(df_test.index) == 0 :\n",
    "            return True\n",
    "        x_test = df_test.iloc[ : , : -2].values\n",
    "        y_pred = model.predict(x_test)\n",
    "        return True if y_pred[0] else False\n",
    "    except:\n",
    "        return True"
   ]
  },
  {
   "cell_type": "code",
   "execution_count": 6,
   "id": "71a91e36-8a2c-45a8-8081-4e974d52b650",
   "metadata": {},
   "outputs": [
    {
     "data": {
      "text/plain": [
       "False"
      ]
     },
     "execution_count": 6,
     "metadata": {},
     "output_type": "execute_result"
    }
   ],
   "source": [
    "predict(dt)"
   ]
  },
  {
   "cell_type": "code",
   "execution_count": null,
   "id": "9e211209-4561-4202-8559-37ee781db719",
   "metadata": {},
   "outputs": [],
   "source": []
  }
 ],
 "metadata": {
  "kernelspec": {
   "display_name": "Python 3 (ipykernel)",
   "language": "python",
   "name": "python3"
  },
  "language_info": {
   "codemirror_mode": {
    "name": "ipython",
    "version": 3
   },
   "file_extension": ".py",
   "mimetype": "text/x-python",
   "name": "python",
   "nbconvert_exporter": "python",
   "pygments_lexer": "ipython3",
   "version": "3.8.10"
  }
 },
 "nbformat": 4,
 "nbformat_minor": 5
}
